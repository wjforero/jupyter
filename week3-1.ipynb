{
 "cells": [
  {
   "cell_type": "markdown",
   "metadata": {},
   "source": [
    "Calculate AUC for these predictions:"
   ]
  },
  {
   "cell_type": "code",
   "execution_count": 9,
   "metadata": {},
   "outputs": [
    {
     "data": {
      "text/html": [
       "<div>\n",
       "<style scoped>\n",
       "    .dataframe tbody tr th:only-of-type {\n",
       "        vertical-align: middle;\n",
       "    }\n",
       "\n",
       "    .dataframe tbody tr th {\n",
       "        vertical-align: top;\n",
       "    }\n",
       "\n",
       "    .dataframe thead th {\n",
       "        text-align: right;\n",
       "    }\n",
       "</style>\n",
       "<table border=\"1\" class=\"dataframe\">\n",
       "  <thead>\n",
       "    <tr style=\"text-align: right;\">\n",
       "      <th></th>\n",
       "      <th>y_pred</th>\n",
       "      <th>y_test</th>\n",
       "    </tr>\n",
       "  </thead>\n",
       "  <tbody>\n",
       "    <tr>\n",
       "      <th>0</th>\n",
       "      <td>0.02</td>\n",
       "      <td>0</td>\n",
       "    </tr>\n",
       "    <tr>\n",
       "      <th>1</th>\n",
       "      <td>0.39</td>\n",
       "      <td>1</td>\n",
       "    </tr>\n",
       "    <tr>\n",
       "      <th>2</th>\n",
       "      <td>0.44</td>\n",
       "      <td>0</td>\n",
       "    </tr>\n",
       "    <tr>\n",
       "      <th>3</th>\n",
       "      <td>0.49</td>\n",
       "      <td>1</td>\n",
       "    </tr>\n",
       "    <tr>\n",
       "      <th>4</th>\n",
       "      <td>0.52</td>\n",
       "      <td>0</td>\n",
       "    </tr>\n",
       "    <tr>\n",
       "      <th>5</th>\n",
       "      <td>0.85</td>\n",
       "      <td>1</td>\n",
       "    </tr>\n",
       "    <tr>\n",
       "      <th>6</th>\n",
       "      <td>0.91</td>\n",
       "      <td>1</td>\n",
       "    </tr>\n",
       "  </tbody>\n",
       "</table>\n",
       "</div>"
      ],
      "text/plain": [
       "   y_pred  y_test\n",
       "0    0.02       0\n",
       "1    0.39       1\n",
       "2    0.44       0\n",
       "3    0.49       1\n",
       "4    0.52       0\n",
       "5    0.85       1\n",
       "6    0.91       1"
      ]
     },
     "execution_count": 9,
     "metadata": {},
     "output_type": "execute_result"
    }
   ],
   "source": [
    "import pandas as pd\n",
    "\n",
    "df_roc = pd.DataFrame([\n",
    "  [0.02,0],\n",
    "  [0.39,1],\n",
    "  [0.44,0],\n",
    "  [0.49,1],\n",
    "  [0.52,0],\n",
    "  [0.85,1],\n",
    "  [0.91,1]\n",
    "], columns=['y_pred','y_test']\n",
    ")\n",
    "df_roc\n"
   ]
  },
  {
   "cell_type": "code",
   "execution_count": null,
   "metadata": {},
   "outputs": [],
   "source": [
    "y_test = df_roc['y_test']\n",
    "#count all classes\n",
    "class_count = y_test.value_counts()\n",
    "pos_count = class_count[1.0]\n",
    "neg_count = class_count[0.0]\n",
    "\n",
    "#store results here\n",
    "coords = [(0,0)]\n",
    "#FPR as horizontal x axis    \n",
    "fp=0\n",
    "#TPR as vertical y axis\n",
    "tp=0\n",
    "\n",
    "#for each truthful prediction\n",
    "for truth in df_roc['y_test']:\n",
    "    if truth == 1:\n",
    "        tp +=1\n",
    "    else:\n",
    "        fp +=1\n",
    "    #update result\n",
    "    coords.append((fp, tp))\n",
    "    \n",
    "#get tally as separate lists\n",
    "fp, tp = map(list, zip(*coords))\n",
    "\n",
    "#calculate tpr and fpr\n",
    "tpr = tp/pos_count\n",
    "fpr = fp/neg_count"
   ]
  },
  {
   "cell_type": "code",
   "execution_count": 2,
   "metadata": {},
   "outputs": [
    {
     "data": {
      "text/plain": [
       "[<matplotlib.lines.Line2D at 0x7fe3bc2c8890>]"
      ]
     },
     "execution_count": 2,
     "metadata": {},
     "output_type": "execute_result"
    },
    {
     "data": {
      "image/png": "[encoded data removed]",
      "text/plain": [
       "<Figure size 432x288 with 1 Axes>"
      ]
     },
     "metadata": {
      "needs_background": "light"
     },
     "output_type": "display_data"
    }
   ],
   "source": [
    "import matplotlib.pyplot as plt\n",
    "\n",
    "plt.plot(fpr,tpr)"
   ]
  },
  {
   "cell_type": "code",
   "execution_count": 4,
   "metadata": {},
   "outputs": [
    {
     "name": "stdout",
     "output_type": "stream",
     "text": [
      "ROC:  (array([0.        , 0.        , 0.        , 0.33333333, 0.33333333,\n",
      "       0.66666667, 0.66666667, 1.        ]), array([0.  , 0.25, 0.5 , 0.5 , 0.75, 0.75, 1.  , 1.  ]), array([1.91, 0.91, 0.85, 0.52, 0.49, 0.44, 0.39, 0.02]))\n",
      "AUC 0.75\n"
     ]
    }
   ],
   "source": [
    "from sklearn.metrics import roc_curve, roc_auc_score\n",
    "\n",
    "print('ROC: ',roc_curve(df_roc['y_test'], df_roc['y_pred']))\n",
    "print('AUC',roc_auc_score(df_roc['y_test'], df_roc['y_pred']))\n"
   ]
  },
  {
   "cell_type": "markdown",
   "metadata": {},
   "source": [
    "What would be a logloss value for a binary classification task, if we use constant predictor f(x) = 0.5? Round to two decimal places."
   ]
  },
  {
   "cell_type": "code",
   "execution_count": 7,
   "metadata": {},
   "outputs": [
    {
     "name": "stderr",
     "output_type": "stream",
     "text": [
      "/srv/conda/envs/notebook/lib/python3.7/site-packages/numpy/lib/arraysetops.py:569: FutureWarning: elementwise comparison failed; returning scalar instead, but in the future will perform elementwise comparison\n",
      "  mask |= (ar1 == a)\n"
     ]
    },
    {
     "data": {
      "text/plain": [
       "0.6931471805599453"
      ]
     },
     "execution_count": 7,
     "metadata": {},
     "output_type": "execute_result"
    }
   ],
   "source": [
    "from sklearn.metrics import log_loss\n",
    "log_loss([\"1\"],\n",
    "         [[.5, .5]], labels=[1,0])"
   ]
  },
  {
   "cell_type": "markdown",
   "metadata": {},
   "source": [
    "Suppose we solve a binary classification task and our solution is scores with logloss. What predictions are more preferable in terms of logloss if true labels are y_true = [0, 0, 0, 0]."
   ]
  },
  {
   "cell_type": "code",
   "execution_count": 11,
   "metadata": {},
   "outputs": [
    {
     "name": "stdout",
     "output_type": "stream",
     "text": [
      "logloss pred 1:  8.63489399808522\n",
      "logloss pred 2:  0.7033526791900091\n",
      "logloss pred 3:  0.6931471805599453\n"
     ]
    }
   ],
   "source": [
    "y_true = [0, 0, 0, 0]\n",
    "y_pred1 = [0, 0, 0, 1]\n",
    "y_pred2 = [0.4, 0.5, 0.5, 0.6]\n",
    "y_pred3 = [0.5, 0.5, 0.5, 0.5]\n",
    "print('logloss pred 1: ', log_loss(y_true, y_pred1, labels=[0,1]))\n",
    "print('logloss pred 2: ', log_loss(y_true, y_pred2, labels=[1,0]))\n",
    "print('logloss pred 3: ', log_loss(y_true, y_pred3, labels=[1,0]))\n"
   ]
  },
  {
   "cell_type": "code",
   "execution_count": 12,
   "metadata": {},
   "outputs": [
    {
     "ename": "SyntaxError",
     "evalue": "invalid syntax (<ipython-input-12-1f2f40f1f5e0>, line 1)",
     "output_type": "error",
     "traceback": [
      "\u001b[0;36m  File \u001b[0;32m\"<ipython-input-12-1f2f40f1f5e0>\"\u001b[0;36m, line \u001b[0;32m1\u001b[0m\n\u001b[0;31m    The minimum is better\u001b[0m\n\u001b[0m              ^\u001b[0m\n\u001b[0;31mSyntaxError\u001b[0m\u001b[0;31m:\u001b[0m invalid syntax\n"
     ]
    }
   ],
   "source": [
    "The minimum is better"
   ]
  },
  {
   "cell_type": "markdown",
   "metadata": {},
   "source": [
    "What would be a best constant prediction for a following multi-class classification task with 4 classes? The solution is scored with multi-class logloss. The number of objects of each class in train set is: 18, 3, 15, 24.\n",
    "\n",
    "Enter four comma separated values. Round each to two decimal places and use a leading zero before a fractional part (e.g. \"0.50\"; not \".5\")."
   ]
  },
  {
   "cell_type": "code",
   "execution_count": 15,
   "metadata": {},
   "outputs": [
    {
     "data": {
      "text/plain": [
       "array([0.3 , 0.05, 0.25, 0.4 ])"
      ]
     },
     "execution_count": 15,
     "metadata": {},
     "output_type": "execute_result"
    }
   ],
   "source": [
    "import numpy as np\n",
    "y = np.array([18,3,15,24])\n",
    "y_pred = y/y.sum()\n",
    "y_pred"
   ]
  },
  {
   "cell_type": "code",
   "execution_count": null,
   "metadata": {},
   "outputs": [],
   "source": []
  }
 ],
 "metadata": {
  "kernelspec": {
   "display_name": "Python 3",
   "language": "python",
   "name": "python3"
  },
  "language_info": {
   "codemirror_mode": {
    "name": "ipython",
    "version": 3
   },
   "file_extension": ".py",
   "mimetype": "text/x-python",
   "name": "python",
   "nbconvert_exporter": "python",
   "pygments_lexer": "ipython3",
   "version": "3.7.6"
  }
 },
 "nbformat": 4,
 "nbformat_minor": 4
}
